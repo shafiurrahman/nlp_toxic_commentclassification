{
  "nbformat": 4,
  "nbformat_minor": 0,
  "metadata": {
    "accelerator": "GPU",
    "colab": {
      "name": "submission_toxic.ipynb",
      "provenance": [],
      "collapsed_sections": [],
      "machine_shape": "hm",
      "mount_file_id": "1Zx3OeRidbG3YMAoO8dPuFcngGYhcq4L8",
      "authorship_tag": "ABX9TyPfNamrx0rdaBTuaGLFZ+D1",
      "include_colab_link": true
    },
    "kernelspec": {
      "display_name": "Python 3",
      "name": "python3"
    },
    "language_info": {
      "name": "python"
    }
  },
  "cells": [
    {
      "cell_type": "markdown",
      "metadata": {
        "id": "view-in-github",
        "colab_type": "text"
      },
      "source": [
        "<a href=\"https://colab.research.google.com/github/shafiurrahman/nlp_toxic_commentclassification/blob/main/submission_toxic.ipynb\" target=\"_parent\"><img src=\"https://colab.research.google.com/assets/colab-badge.svg\" alt=\"Open In Colab\"/></a>"
      ]
    },
    {
      "cell_type": "code",
      "metadata": {
        "id": "BmgSKE9cU5pt"
      },
      "source": [
        "import numpy as np \n",
        "import pandas as pd \n",
        "import nltk\n",
        "from nltk.tokenize import word_tokenize\n",
        "from nltk.stem import WordNetLemmatizer\n",
        "from nltk.corpus import stopwords\n",
        "from bs4 import BeautifulSoup\n",
        "import re\n",
        "import random\n",
        "from sklearn.model_selection import train_test_split\n",
        "from tqdm import tqdm\n",
        "import matplotlib.pyplot as plt\n",
        "import warnings\n",
        "warnings.filterwarnings(\"ignore\", category=UserWarning, module='bs4')\n",
        "lemmatizer = WordNetLemmatizer()\n",
        "\n",
        "#set random seed for the session\n",
        "random.seed(1)\n",
        "np.random.seed(1)"
      ],
      "execution_count": null,
      "outputs": []
    },
    {
      "cell_type": "code",
      "metadata": {
        "colab": {
          "base_uri": "https://localhost:8080/"
        },
        "id": "rRyRrAa7S-_U",
        "outputId": "884e3081-bf19-40d6-bdaa-402a7d0afe43"
      },
      "source": [
        "# Check for GPU\n",
        "!nvidia-smi -L"
      ],
      "execution_count": null,
      "outputs": [
        {
          "output_type": "stream",
          "name": "stdout",
          "text": [
            "GPU 0: Tesla P100-PCIE-16GB (UUID: GPU-69768a4e-f50b-b9c8-a821-29a210f3e53a)\n"
          ]
        }
      ]
    },
    {
      "cell_type": "code",
      "metadata": {
        "id": "9YL6TgdSU-2V"
      },
      "source": [
        "pd.set_option('display.max_columns', None)"
      ],
      "execution_count": null,
      "outputs": []
    },
    {
      "cell_type": "code",
      "metadata": {
        "id": "aNpvKldmU-6p",
        "colab": {
          "base_uri": "https://localhost:8080/",
          "height": 202
        },
        "outputId": "30123b48-bcd1-45b6-dcc5-7ea844516942"
      },
      "source": [
        "train=pd.read_csv(\"/content/drive/MyDrive/Colab-Notebooks/stats/train_toxic.csv\")\n",
        "train.head()"
      ],
      "execution_count": null,
      "outputs": [
        {
          "output_type": "execute_result",
          "data": {
            "text/html": [
              "<div>\n",
              "<style scoped>\n",
              "    .dataframe tbody tr th:only-of-type {\n",
              "        vertical-align: middle;\n",
              "    }\n",
              "\n",
              "    .dataframe tbody tr th {\n",
              "        vertical-align: top;\n",
              "    }\n",
              "\n",
              "    .dataframe thead th {\n",
              "        text-align: right;\n",
              "    }\n",
              "</style>\n",
              "<table border=\"1\" class=\"dataframe\">\n",
              "  <thead>\n",
              "    <tr style=\"text-align: right;\">\n",
              "      <th></th>\n",
              "      <th>id</th>\n",
              "      <th>comment_text</th>\n",
              "      <th>toxic</th>\n",
              "      <th>severe_toxic</th>\n",
              "      <th>obscene</th>\n",
              "      <th>threat</th>\n",
              "      <th>insult</th>\n",
              "      <th>identity_hate</th>\n",
              "    </tr>\n",
              "  </thead>\n",
              "  <tbody>\n",
              "    <tr>\n",
              "      <th>0</th>\n",
              "      <td>0000997932d777bf</td>\n",
              "      <td>Explanation\\nWhy the edits made under my usern...</td>\n",
              "      <td>0</td>\n",
              "      <td>0</td>\n",
              "      <td>0</td>\n",
              "      <td>0</td>\n",
              "      <td>0</td>\n",
              "      <td>0</td>\n",
              "    </tr>\n",
              "    <tr>\n",
              "      <th>1</th>\n",
              "      <td>000103f0d9cfb60f</td>\n",
              "      <td>D'aww! He matches this background colour I'm s...</td>\n",
              "      <td>0</td>\n",
              "      <td>0</td>\n",
              "      <td>0</td>\n",
              "      <td>0</td>\n",
              "      <td>0</td>\n",
              "      <td>0</td>\n",
              "    </tr>\n",
              "    <tr>\n",
              "      <th>2</th>\n",
              "      <td>000113f07ec002fd</td>\n",
              "      <td>Hey man, I'm really not trying to edit war. It...</td>\n",
              "      <td>0</td>\n",
              "      <td>0</td>\n",
              "      <td>0</td>\n",
              "      <td>0</td>\n",
              "      <td>0</td>\n",
              "      <td>0</td>\n",
              "    </tr>\n",
              "    <tr>\n",
              "      <th>3</th>\n",
              "      <td>0001b41b1c6bb37e</td>\n",
              "      <td>\"\\nMore\\nI can't make any real suggestions on ...</td>\n",
              "      <td>0</td>\n",
              "      <td>0</td>\n",
              "      <td>0</td>\n",
              "      <td>0</td>\n",
              "      <td>0</td>\n",
              "      <td>0</td>\n",
              "    </tr>\n",
              "    <tr>\n",
              "      <th>4</th>\n",
              "      <td>0001d958c54c6e35</td>\n",
              "      <td>You, sir, are my hero. Any chance you remember...</td>\n",
              "      <td>0</td>\n",
              "      <td>0</td>\n",
              "      <td>0</td>\n",
              "      <td>0</td>\n",
              "      <td>0</td>\n",
              "      <td>0</td>\n",
              "    </tr>\n",
              "  </tbody>\n",
              "</table>\n",
              "</div>"
            ],
            "text/plain": [
              "                 id                                       comment_text  toxic  \\\n",
              "0  0000997932d777bf  Explanation\\nWhy the edits made under my usern...      0   \n",
              "1  000103f0d9cfb60f  D'aww! He matches this background colour I'm s...      0   \n",
              "2  000113f07ec002fd  Hey man, I'm really not trying to edit war. It...      0   \n",
              "3  0001b41b1c6bb37e  \"\\nMore\\nI can't make any real suggestions on ...      0   \n",
              "4  0001d958c54c6e35  You, sir, are my hero. Any chance you remember...      0   \n",
              "\n",
              "   severe_toxic  obscene  threat  insult  identity_hate  \n",
              "0             0        0       0       0              0  \n",
              "1             0        0       0       0              0  \n",
              "2             0        0       0       0              0  \n",
              "3             0        0       0       0              0  \n",
              "4             0        0       0       0              0  "
            ]
          },
          "metadata": {},
          "execution_count": 3
        }
      ]
    },
    {
      "cell_type": "code",
      "metadata": {
        "id": "qJijb2NgU--c"
      },
      "source": [
        "train.info()\n",
        "train[train[\"toxic\"]==1]"
      ],
      "execution_count": null,
      "outputs": []
    },
    {
      "cell_type": "code",
      "metadata": {
        "colab": {
          "base_uri": "https://localhost:8080/",
          "height": 53
        },
        "id": "KZNFxEjkU_Gg",
        "outputId": "5b813d67-7d83-44d2-804e-7d72f3c0c511"
      },
      "source": [
        "train['comment_text'][0]"
      ],
      "execution_count": null,
      "outputs": [
        {
          "output_type": "execute_result",
          "data": {
            "application/vnd.google.colaboratory.intrinsic+json": {
              "type": "string"
            },
            "text/plain": [
              "\"Explanation\\nWhy the edits made under my username Hardcore Metallica Fan were reverted? They weren't vandalisms, just closure on some GAs after I voted at New York Dolls FAC. And please don't remove the template from the talk page since I'm retired now.89.205.38.27\""
            ]
          },
          "metadata": {},
          "execution_count": 5
        }
      ]
    },
    {
      "cell_type": "code",
      "metadata": {
        "id": "Ly3Taf9NU_RZ"
      },
      "source": [
        "X=train['comment_text']\n",
        "y=pd.get_dummies(train[[\"toxic\", \"severe_toxic\", \"obscene\", \"threat\", \"insult\", \"identity_hate\"]]).values"
      ],
      "execution_count": null,
      "outputs": []
    },
    {
      "cell_type": "code",
      "metadata": {
        "colab": {
          "base_uri": "https://localhost:8080/",
          "height": 232
        },
        "id": "HAl4qSJvrNLm",
        "outputId": "cb19035b-d657-4d4a-fc07-fe306551a331"
      },
      "source": [
        "df_counts = train.drop(['id', 'comment_text'], axis = 1)\n",
        "label_counts = y.sum()\n",
        "df_counts = pd.DataFrame(label_counts)\n",
        "df_counts.rename(columns = {0:'counts'}, inplace = True)\n",
        "df_counts = df_counts.sort_values('counts', ascending = False)\n",
        "df_counts"
      ],
      "execution_count": null,
      "outputs": [
        {
          "output_type": "execute_result",
          "data": {
            "text/html": [
              "<div>\n",
              "<style scoped>\n",
              "    .dataframe tbody tr th:only-of-type {\n",
              "        vertical-align: middle;\n",
              "    }\n",
              "\n",
              "    .dataframe tbody tr th {\n",
              "        vertical-align: top;\n",
              "    }\n",
              "\n",
              "    .dataframe thead th {\n",
              "        text-align: right;\n",
              "    }\n",
              "</style>\n",
              "<table border=\"1\" class=\"dataframe\">\n",
              "  <thead>\n",
              "    <tr style=\"text-align: right;\">\n",
              "      <th></th>\n",
              "      <th>counts</th>\n",
              "    </tr>\n",
              "  </thead>\n",
              "  <tbody>\n",
              "    <tr>\n",
              "      <th>toxic</th>\n",
              "      <td>15294</td>\n",
              "    </tr>\n",
              "    <tr>\n",
              "      <th>obscene</th>\n",
              "      <td>8449</td>\n",
              "    </tr>\n",
              "    <tr>\n",
              "      <th>insult</th>\n",
              "      <td>7877</td>\n",
              "    </tr>\n",
              "    <tr>\n",
              "      <th>severe_toxic</th>\n",
              "      <td>1595</td>\n",
              "    </tr>\n",
              "    <tr>\n",
              "      <th>identity_hate</th>\n",
              "      <td>1405</td>\n",
              "    </tr>\n",
              "    <tr>\n",
              "      <th>threat</th>\n",
              "      <td>478</td>\n",
              "    </tr>\n",
              "  </tbody>\n",
              "</table>\n",
              "</div>"
            ],
            "text/plain": [
              "               counts\n",
              "toxic           15294\n",
              "obscene          8449\n",
              "insult           7877\n",
              "severe_toxic     1595\n",
              "identity_hate    1405\n",
              "threat            478"
            ]
          },
          "metadata": {},
          "execution_count": 7
        }
      ]
    },
    {
      "cell_type": "code",
      "metadata": {
        "colab": {
          "base_uri": "https://localhost:8080/",
          "height": 404
        },
        "id": "RKHMN29PsNO8",
        "outputId": "94696ab2-9f69-4467-8835-6884f3333a66"
      },
      "source": [
        "import seaborn as sns\n",
        "fig, ax = plt.subplots(figsize = (8,4))\n",
        "p = sns.barplot(df_counts.index, df_counts['counts'])\n",
        "x = plt.xticks(rotation = 60) \n",
        "ax.set_title('Toxic comment counts in '+ str(len(train))+ ' samples of data', weight = 'bold', fontsize = 18, y = 1.05)\n",
        "x = ax.set_ylabel('')"
      ],
      "execution_count": null,
      "outputs": [
        {
          "output_type": "stream",
          "name": "stderr",
          "text": [
            "/usr/local/lib/python3.7/dist-packages/seaborn/_decorators.py:43: FutureWarning: Pass the following variables as keyword args: x, y. From version 0.12, the only valid positional argument will be `data`, and passing other arguments without an explicit keyword will result in an error or misinterpretation.\n",
            "  FutureWarning\n"
          ]
        },
        {
          "output_type": "display_data",
          "data": {
            "image/png": "[encoded data removed]",
            "text/plain": [
              "<Figure size 576x288 with 1 Axes>"
            ]
          },
          "metadata": {
            "needs_background": "light"
          }
        }
      ]
    },
    {
      "cell_type": "code",
      "metadata": {
        "id": "aTtCFlxIrcop"
      },
      "source": [
        "from sklearn.model_selection import train_test_split\n",
        "X_train,X_test,y_train,y_test=train_test_split(X,y,test_size=0.2,random_state=42)"
      ],
      "execution_count": null,
      "outputs": []
    },
    {
      "cell_type": "code",
      "metadata": {
        "colab": {
          "base_uri": "https://localhost:8080/"
        },
        "id": "4pgpgAm8skzm",
        "outputId": "04b71758-2fec-433c-8ff8-5cc12d60e2cd"
      },
      "source": [
        "X_train.shape,X_test.shape,y_train.shape,y_test.shape"
      ],
      "execution_count": null,
      "outputs": [
        {
          "output_type": "execute_result",
          "data": {
            "text/plain": [
              "((127656,), (31915,), (127656, 6), (31915, 6))"
            ]
          },
          "metadata": {},
          "execution_count": 10
        }
      ]
    },
    {
      "cell_type": "code",
      "metadata": {
        "colab": {
          "base_uri": "https://localhost:8080/"
        },
        "id": "6ogI9clDspOb",
        "outputId": "de7c9f8e-6bb7-49f6-aff1-4ecfdd977fbb"
      },
      "source": [
        "nltk.download(\"punkt\")"
      ],
      "execution_count": null,
      "outputs": [
        {
          "output_type": "stream",
          "name": "stdout",
          "text": [
            "[nltk_data] Downloading package punkt to /root/nltk_data...\n",
            "[nltk_data]   Unzipping tokenizers/punkt.zip.\n"
          ]
        },
        {
          "output_type": "execute_result",
          "data": {
            "text/plain": [
              "True"
            ]
          },
          "metadata": {},
          "execution_count": 11
        }
      ]
    },
    {
      "cell_type": "code",
      "metadata": {
        "colab": {
          "base_uri": "https://localhost:8080/"
        },
        "id": "G-29W1-OtCG5",
        "outputId": "a95f9cbc-67c7-4dbd-fea6-a79d6a9c7597"
      },
      "source": [
        "nltk.download(\"stopwords\")"
      ],
      "execution_count": null,
      "outputs": [
        {
          "output_type": "stream",
          "name": "stdout",
          "text": [
            "[nltk_data] Downloading package stopwords to /root/nltk_data...\n",
            "[nltk_data]   Unzipping corpora/stopwords.zip.\n"
          ]
        },
        {
          "output_type": "execute_result",
          "data": {
            "text/plain": [
              "True"
            ]
          },
          "metadata": {},
          "execution_count": 12
        }
      ]
    },
    {
      "cell_type": "code",
      "metadata": {
        "colab": {
          "base_uri": "https://localhost:8080/"
        },
        "id": "NMyZtBuutVJY",
        "outputId": "17ea2a64-5958-4954-9b38-b7b4734093a7"
      },
      "source": [
        "nltk.download('wordnet')"
      ],
      "execution_count": null,
      "outputs": [
        {
          "output_type": "stream",
          "name": "stdout",
          "text": [
            "[nltk_data] Downloading package wordnet to /root/nltk_data...\n",
            "[nltk_data]   Unzipping corpora/wordnet.zip.\n"
          ]
        },
        {
          "output_type": "execute_result",
          "data": {
            "text/plain": [
              "True"
            ]
          },
          "metadata": {},
          "execution_count": 13
        }
      ]
    },
    {
      "cell_type": "code",
      "metadata": {
        "colab": {
          "base_uri": "https://localhost:8080/"
        },
        "id": "ILcePu57tVGQ",
        "outputId": "f0178d16-a84e-480a-c430-d47afa2ff127"
      },
      "source": [
        "def clean_sentences(train):\n",
        "    reviews = []\n",
        "\n",
        "    for sent in tqdm(train):\n",
        "        \n",
        "        #remove html content\n",
        "        review_text = BeautifulSoup(sent).get_text()\n",
        "        \n",
        "        #remove special characters and numbers\n",
        "        review_text = re.sub(\"[^a-zA-Z]+\",\" \", review_text)#missed out 0-9\n",
        "        \n",
        "       # review_text = re.sub(\"[0-9-~`!@#$%^&*()?:;..'' ``,<>]\",\" \", review_text)\n",
        "    \n",
        "    \n",
        "        #tokenize the sentences using nltk word_tokenize--this is differrent from tokenizer of tensorflow\n",
        "        words = word_tokenize(review_text.lower())\n",
        "    \n",
        "        #stop words removal\n",
        "        omit_words = set(stopwords.words('english'))\n",
        "        words = [x for x in words if x not in omit_words]\n",
        "        \n",
        "        #lemmatize each word to its lemma\n",
        "        lemma_words = [lemmatizer.lemmatize(i) for i in words]\n",
        "    \n",
        "        reviews.append(lemma_words)\n",
        "\n",
        "    return(reviews)\n",
        "\n",
        "#cleaned reviews for both train and test set retrieved\n",
        "train_sentences = clean_sentences(X_train)\n",
        "test_sentences = clean_sentences(X_test)\n",
        "print(len(train_sentences))\n",
        "print(len(test_sentences))"
      ],
      "execution_count": null,
      "outputs": [
        {
          "output_type": "stream",
          "name": "stderr",
          "text": [
            "100%|██████████| 127656/127656 [02:20<00:00, 909.09it/s]\n",
            "100%|██████████| 31915/31915 [00:33<00:00, 953.86it/s]"
          ]
        },
        {
          "output_type": "stream",
          "name": "stdout",
          "text": [
            "127656\n",
            "31915\n"
          ]
        },
        {
          "output_type": "stream",
          "name": "stderr",
          "text": [
            "\n"
          ]
        }
      ]
    },
    {
      "cell_type": "code",
      "metadata": {
        "id": "C6HzFOWAuNLv"
      },
      "source": [
        "#target=train.Sentiment.values\n",
        "\n",
        "# Set values for various parameters of word2vec\n",
        "num_features = 200  # Word vector dimensionality. Determines the no of words each word in the vocabulary will\n",
        "#be associated with. Must be tuned.\n",
        "min_word_count = 5   # Minimum word count. Words occuring below the threshold will be ignored\n",
        "num_workers = 1       # Number of threads to run in parallel\n",
        "context = 5         # Context window size to be considered for each word                                             \n",
        "downsampling = 1e-3 "
      ],
      "execution_count": null,
      "outputs": []
    },
    {
      "cell_type": "code",
      "metadata": {
        "id": "eL0G5QqYuTxy"
      },
      "source": [
        "from gensim.models import word2vec\n",
        "\n",
        "#Model Word2Vec\n",
        "model = word2vec.Word2Vec(train_sentences, workers=num_workers, \\\n",
        "            size=num_features, min_count = min_word_count, \\\n",
        "            window = context, sample = downsampling)\n",
        "\n",
        "# If the model is not going to be trained further, init_sims can be called \n",
        "# init_sims will make the model much more memory-efficient.\n",
        "model.init_sims(replace=True)"
      ],
      "execution_count": null,
      "outputs": []
    },
    {
      "cell_type": "code",
      "metadata": {
        "colab": {
          "base_uri": "https://localhost:8080/",
          "height": 35
        },
        "id": "vrGux97yu18p",
        "outputId": "c87f4a5b-a41e-4b0c-9d2f-b79cfe91d739"
      },
      "source": [
        "model.wv.index2word[3]"
      ],
      "execution_count": null,
      "outputs": [
        {
          "output_type": "execute_result",
          "data": {
            "application/vnd.google.colaboratory.intrinsic+json": {
              "type": "string"
            },
            "text/plain": [
              "'talk'"
            ]
          },
          "metadata": {},
          "execution_count": 18
        }
      ]
    },
    {
      "cell_type": "code",
      "metadata": {
        "colab": {
          "base_uri": "https://localhost:8080/"
        },
        "id": "kFJ73k-Ou51v",
        "outputId": "b9e03987-0548-4edb-a8fb-139ce0bd26ba"
      },
      "source": [
        "print(\"the three most common words\")\n",
        "print(model.wv.index2word[0], model.wv.index2word[1], model.wv.index2word[2], model.wv.index2word[3])"
      ],
      "execution_count": null,
      "outputs": [
        {
          "output_type": "stream",
          "name": "stdout",
          "text": [
            "the three most common words\n",
            "article page wikipedia talk\n"
          ]
        }
      ]
    },
    {
      "cell_type": "code",
      "metadata": {
        "colab": {
          "base_uri": "https://localhost:8080/"
        },
        "id": "bkdyJmHSU_Zv",
        "outputId": "33c00d9b-eddf-4a25-a4be-eb2d580638dc"
      },
      "source": [
        "def createFeatureVector(words, model, num_features):\n",
        "    #initialize a 1D array with length as num of features of word2vec model chosen by us. \n",
        "    #Here it is 200.\n",
        "    featVector = np.zeros((num_features,),dtype=\"float32\")\n",
        "    \n",
        "    nWords = 0\n",
        "    \n",
        "    # Index2word is a list that contains the names of the words in \n",
        "    # the model's vocabulary. Convert it to a set, as set is faster\n",
        "    index2word_set = set(model.wv.index2word)\n",
        "    \n",
        "    # Loop over each word and add it to the feature vector to get the total sum of feature vectors of the\n",
        "    #entire review\n",
        "    for word in words:\n",
        "        if word in index2word_set: \n",
        "            nWords = nWords + 1.\n",
        "            featVector = np.add(featVector,model[word])\n",
        "            \n",
        "    # Divide the result by the number of words to get the average of the feature vectors of \n",
        "    #all words in the review\n",
        "    if(nWords != 0):\n",
        "        featVector = np.divide(featVector,nWords)\n",
        "    return featVector\n",
        "\n",
        "#calculates the average of the feature vectors for each review using the word2vec values assigned for \n",
        "#each word\n",
        "def avgFeatureVectors(sentences, model, num_features):\n",
        "    overallFeatureVectors = []\n",
        "    for sentence in tqdm(sentences):\n",
        "        overallFeatureVectors.append(createFeatureVector(sentence, model, num_features)) \n",
        "    return overallFeatureVectors\n",
        "\n",
        "train_vect = avgFeatureVectors( train_sentences, model, num_features )\n",
        "test_vect = avgFeatureVectors( test_sentences, model, num_features )"
      ],
      "execution_count": null,
      "outputs": [
        {
          "output_type": "stream",
          "name": "stderr",
          "text": [
            "  0%|          | 0/127656 [00:00<?, ?it/s]/usr/local/lib/python3.7/dist-packages/ipykernel_launcher.py:17: DeprecationWarning: Call to deprecated `__getitem__` (Method will be removed in 4.0.0, use self.wv.__getitem__() instead).\n",
            "100%|██████████| 127656/127656 [08:00<00:00, 265.89it/s]\n",
            "100%|██████████| 31915/31915 [01:59<00:00, 267.01it/s]\n"
          ]
        }
      ]
    },
    {
      "cell_type": "code",
      "metadata": {
        "id": "VwSqUpbbU_eQ"
      },
      "source": [
        "train_vect\n",
        "test_vect"
      ],
      "execution_count": null,
      "outputs": []
    },
    {
      "cell_type": "code",
      "metadata": {
        "id": "ovuvPI62U_lI"
      },
      "source": [
        "from tensorflow.keras.preprocessing.sequence import pad_sequences\n",
        "maxlen = 50\n",
        "x_train = pad_sequences(train_vect, maxlen = maxlen,padding='post',dtype='float64')\n",
        "x_test = pad_sequences(test_vect, maxlen = maxlen,padding='post',dtype='float64')\n",
        "max_feature = 10000"
      ],
      "execution_count": null,
      "outputs": []
    },
    {
      "cell_type": "code",
      "metadata": {
        "colab": {
          "base_uri": "https://localhost:8080/"
        },
        "id": "woeaHPM7U_rh",
        "outputId": "086e7182-a25c-4a8f-82a5-0e46ad88c3aa"
      },
      "source": [
        "np.all (x_test==x_test[0])\n",
        "np.all (x_train==x_train[0])# checking whether padding all same values as first number happens when it can makke all numbers 0\n",
        "#np.all(y_train==y_train[0])"
      ],
      "execution_count": null,
      "outputs": [
        {
          "output_type": "execute_result",
          "data": {
            "text/plain": [
              "False"
            ]
          },
          "metadata": {},
          "execution_count": 23
        }
      ]
    },
    {
      "cell_type": "code",
      "metadata": {
        "id": "g0l9j0SBU_un"
      },
      "source": [
        "import tensorflow as tf\n",
        "from tensorflow.keras.preprocessing.text import Tokenizer\n",
        "from tensorflow.keras.preprocessing.sequence import pad_sequences\n",
        "from tensorflow.keras.layers import Dense, Input, LSTM, Embedding, Dropout, Activation\n",
        "from tensorflow.keras.layers import Bidirectional, GlobalMaxPool1D\n",
        "from tensorflow.keras.models import Model\n",
        "from tensorflow.keras import initializers, regularizers, constraints, optimizers, layers"
      ],
      "execution_count": null,
      "outputs": []
    },
    {
      "cell_type": "code",
      "metadata": {
        "id": "xbJDliFiU_yq"
      },
      "source": [
        "input = Input(shape = (maxlen,))\n",
        "embed_size = 128\n",
        "x = Embedding(max_feature, embed_size)(input)\n",
        "x = LSTM(60, return_sequences = True, name = \"lstm_layer\")(x)\n",
        "x = GlobalMaxPool1D()(x)\n",
        "x = Dropout(0.1)(x)\n",
        "x = Dense(50, activation = \"relu\")(x)\n",
        "x = Dropout(0.1)(x)\n",
        "x = Dense(6, activation = \"sigmoid\")(x)\n"
      ],
      "execution_count": null,
      "outputs": []
    },
    {
      "cell_type": "code",
      "metadata": {
        "colab": {
          "base_uri": "https://localhost:8080/"
        },
        "id": "hOzOzUCrU_2S",
        "outputId": "8863af37-fb9a-43e7-9f2d-8713e128a869"
      },
      "source": [
        "model1 = Model(inputs = input, outputs = x)\n",
        "model1.compile(loss = \"binary_crossentropy\",\n",
        "             optimizer = \"adam\",\n",
        "             metrics = [\"accuracy\"])\n",
        "print(model1.summary())"
      ],
      "execution_count": null,
      "outputs": [
        {
          "output_type": "stream",
          "name": "stdout",
          "text": [
            "Model: \"model\"\n",
            "_________________________________________________________________\n",
            "Layer (type)                 Output Shape              Param #   \n",
            "=================================================================\n",
            "input_1 (InputLayer)         [(None, 50)]              0         \n",
            "_________________________________________________________________\n",
            "embedding (Embedding)        (None, 50, 128)           1280000   \n",
            "_________________________________________________________________\n",
            "lstm_layer (LSTM)            (None, 50, 60)            45360     \n",
            "_________________________________________________________________\n",
            "global_max_pooling1d (Global (None, 60)                0         \n",
            "_________________________________________________________________\n",
            "dropout (Dropout)            (None, 60)                0         \n",
            "_________________________________________________________________\n",
            "dense (Dense)                (None, 50)                3050      \n",
            "_________________________________________________________________\n",
            "dropout_1 (Dropout)          (None, 50)                0         \n",
            "_________________________________________________________________\n",
            "dense_1 (Dense)              (None, 6)                 306       \n",
            "=================================================================\n",
            "Total params: 1,328,716\n",
            "Trainable params: 1,328,716\n",
            "Non-trainable params: 0\n",
            "_________________________________________________________________\n",
            "None\n"
          ]
        }
      ]
    },
    {
      "cell_type": "code",
      "metadata": {
        "colab": {
          "base_uri": "https://localhost:8080/"
        },
        "id": "FX8gXwu6U_6N",
        "outputId": "9ff31b8e-c220-4dc9-97e1-20b14d1464af"
      },
      "source": [
        "batch_size = 32\n",
        "epochs = 2\n",
        "history=model1.fit(x_train, y_train, batch_size = batch_size, epochs = epochs, validation_split = 0.1)"
      ],
      "execution_count": null,
      "outputs": [
        {
          "output_type": "stream",
          "name": "stdout",
          "text": [
            "Epoch 1/2\n",
            "3591/3591 [==============================] - 30s 7ms/step - loss: 0.1467 - accuracy: 0.8984 - val_loss: 0.1468 - val_accuracy: 0.9940\n",
            "Epoch 2/2\n",
            "3591/3591 [==============================] - 24s 7ms/step - loss: 0.1424 - accuracy: 0.9922 - val_loss: 0.1464 - val_accuracy: 0.9940\n"
          ]
        }
      ]
    },
    {
      "cell_type": "code",
      "metadata": {
        "id": "Ab3_9uIzVAA-"
      },
      "source": [
        "y_pred = model1.predict(x_test,batch_size=32)\n",
        "y_pred"
      ],
      "execution_count": null,
      "outputs": []
    },
    {
      "cell_type": "code",
      "metadata": {
        "colab": {
          "base_uri": "https://localhost:8080/"
        },
        "id": "h_RneAdrVAJS",
        "outputId": "99738b66-859d-484d-8b8b-0961ac87b39a"
      },
      "source": [
        "score = model1.evaluate(x_test, y_pred, verbose=1)\n",
        "\n",
        "print(\"Test Score:\", score[0])\n",
        "print(\"Test Accuracy:\", score[1])"
      ],
      "execution_count": null,
      "outputs": [
        {
          "output_type": "stream",
          "name": "stdout",
          "text": [
            "998/998 [==============================] - 4s 4ms/step - loss: 0.1333 - accuracy: 1.0000\n",
            "Test Score: 0.13327069580554962\n",
            "Test Accuracy: 1.0\n"
          ]
        }
      ]
    },
    {
      "cell_type": "code",
      "metadata": {
        "colab": {
          "base_uri": "https://localhost:8080/",
          "height": 573
        },
        "id": "i-ZQMtEFVAN9",
        "outputId": "7614f50f-1c18-4636-f2f0-855320501ff9"
      },
      "source": [
        "import matplotlib.pyplot as plt\n",
        "\n",
        "plt.plot(history.history['accuracy'])\n",
        "plt.plot(history.history['val_accuracy'])\n",
        "\n",
        "plt.title('model accuracy')\n",
        "plt.ylabel('accuracy')\n",
        "plt.xlabel('epoch')\n",
        "plt.legend(['train','test'], loc='upper left')\n",
        "plt.show()\n",
        "\n",
        "plt.plot(history.history['loss'])\n",
        "plt.plot(history.history['val_loss'])\n",
        "\n",
        "plt.title('model loss')\n",
        "plt.ylabel('loss')\n",
        "plt.xlabel('epoch')\n",
        "plt.legend(['train','test'], loc='upper left')\n",
        "plt.show()"
      ],
      "execution_count": null,
      "outputs": [
        {
          "output_type": "display_data",
          "data": {
            "image/png": "[encoded data removed]",
            "text/plain": [
              "<Figure size 432x288 with 1 Axes>"
            ]
          },
          "metadata": {
            "needs_background": "light"
          }
        },
        {
          "output_type": "display_data",
          "data": {
            "image/png": "[encoded data removed]",
            "text/plain": [
              "<Figure size 432x288 with 1 Axes>"
            ]
          },
          "metadata": {
            "needs_background": "light"
          }
        }
      ]
    },
    {
      "cell_type": "markdown",
      "metadata": {
        "id": "YROgI_V8zl-6"
      },
      "source": [
        "##multi layer perceptron"
      ]
    },
    {
      "cell_type": "code",
      "metadata": {
        "colab": {
          "base_uri": "https://localhost:8080/"
        },
        "id": "GkAe1W5QVASw",
        "outputId": "b5e486ae-3977-4c57-ea81-4bf22100380b"
      },
      "source": [
        "x_train_mlp=x_train[:122531]\n",
        "y_train_mlp=y_train[:122531]\n",
        "x_train_mlp.shape,y_train_mlp.shape\n"
      ],
      "execution_count": null,
      "outputs": [
        {
          "output_type": "execute_result",
          "data": {
            "text/plain": [
              "((122531, 50), (122531, 6))"
            ]
          },
          "metadata": {},
          "execution_count": 31
        }
      ]
    },
    {
      "cell_type": "code",
      "metadata": {
        "colab": {
          "base_uri": "https://localhost:8080/"
        },
        "id": "ajLaBo9BVAV2",
        "outputId": "5331838c-1cd3-4aa7-b6d3-121a17f23516"
      },
      "source": [
        "from sklearn.neural_network import MLPClassifier#multi layer perceptron\n",
        "\n",
        "mlp_gs = MLPClassifier(max_iter=100)\n",
        "parameter_space = {\n",
        "    'hidden_layer_sizes': [(10,30,10),(20,)],\n",
        "    'activation': ['tanh', 'relu'],\n",
        "    'solver': ['sgd', 'adam'],\n",
        "    'alpha': [0.0001, 0.05],\n",
        "    'learning_rate': ['constant','adaptive'],\n",
        "}\n",
        "from sklearn.model_selection import GridSearchCV\n",
        "clf = GridSearchCV(mlp_gs, parameter_space, n_jobs=-1, cv=5)\n",
        "clf.fit(x_train_mlp, y_train_mlp) "
      ],
      "execution_count": null,
      "outputs": [
        {
          "output_type": "stream",
          "name": "stderr",
          "text": [
            "/usr/local/lib/python3.7/dist-packages/sklearn/neural_network/_multilayer_perceptron.py:571: ConvergenceWarning: Stochastic Optimizer: Maximum iterations (100) reached and the optimization hasn't converged yet.\n",
            "  % self.max_iter, ConvergenceWarning)\n"
          ]
        },
        {
          "output_type": "execute_result",
          "data": {
            "text/plain": [
              "GridSearchCV(cv=5, error_score=nan,\n",
              "             estimator=MLPClassifier(activation='relu', alpha=0.0001,\n",
              "                                     batch_size='auto', beta_1=0.9,\n",
              "                                     beta_2=0.999, early_stopping=False,\n",
              "                                     epsilon=1e-08, hidden_layer_sizes=(100,),\n",
              "                                     learning_rate='constant',\n",
              "                                     learning_rate_init=0.001, max_fun=15000,\n",
              "                                     max_iter=100, momentum=0.9,\n",
              "                                     n_iter_no_change=10,\n",
              "                                     nesterovs_momentum=True, power_t=0.5,\n",
              "                                     random_state...\n",
              "                                     solver='adam', tol=0.0001,\n",
              "                                     validation_fraction=0.1, verbose=False,\n",
              "                                     warm_start=False),\n",
              "             iid='deprecated', n_jobs=-1,\n",
              "             param_grid={'activation': ['tanh', 'relu'],\n",
              "                         'alpha': [0.0001, 0.05],\n",
              "                         'hidden_layer_sizes': [(10, 30, 10), (20,)],\n",
              "                         'learning_rate': ['constant', 'adaptive'],\n",
              "                         'solver': ['sgd', 'adam']},\n",
              "             pre_dispatch='2*n_jobs', refit=True, return_train_score=False,\n",
              "             scoring=None, verbose=0)"
            ]
          },
          "metadata": {},
          "execution_count": 32
        }
      ]
    },
    {
      "cell_type": "code",
      "metadata": {
        "id": "qeNfgoDeVAZi",
        "colab": {
          "base_uri": "https://localhost:8080/"
        },
        "outputId": "717734cf-24f2-4a2a-eece-f311be4a6ec8"
      },
      "source": [
        "print('Best parameters found:\\n', clf.best_params_)"
      ],
      "execution_count": null,
      "outputs": [
        {
          "output_type": "stream",
          "name": "stdout",
          "text": [
            "Best parameters found:\n",
            " {'activation': 'relu', 'alpha': 0.0001, 'hidden_layer_sizes': (10, 30, 10), 'learning_rate': 'adaptive', 'solver': 'adam'}\n"
          ]
        }
      ]
    },
    {
      "cell_type": "code",
      "metadata": {
        "id": "L-ENeUVr4zeA"
      },
      "source": [
        "y_pred=clf.predict(x_test)\n",
        "#y_pred_mlp=y_pred_mlp[:122531]\n",
        "y_pred\n",
        "#y_pred_mlp==y_pred_mlp[0]"
      ],
      "execution_count": null,
      "outputs": []
    },
    {
      "cell_type": "code",
      "metadata": {
        "id": "ECIetlE2VAhK"
      },
      "source": [
        "means = clf.cv_results_['mean_test_score']\n",
        "stds = clf.cv_results_['std_test_score']\n",
        "for mean, std, params in zip(means, stds, clf.cv_results_['params']):\n",
        "    print(\"%0.3f (+/-%0.03f) for %r\" % (mean, std * 2, params))"
      ],
      "execution_count": null,
      "outputs": []
    },
    {
      "cell_type": "code",
      "metadata": {
        "id": "H9ijv0wVVAog",
        "colab": {
          "base_uri": "https://localhost:8080/"
        },
        "outputId": "27a066c9-e983-47ab-b979-b00209f244dd"
      },
      "source": [
        "from sklearn.metrics import accuracy_score, classification_report, confusion_matrix\n",
        "score = accuracy_score(y_test,y_pred)\n",
        "print(score)"
      ],
      "execution_count": null,
      "outputs": [
        {
          "output_type": "stream",
          "name": "stdout",
          "text": [
            "0.9060629797900673\n"
          ]
        }
      ]
    },
    {
      "cell_type": "code",
      "metadata": {
        "id": "2GTlUKk9VAtZ",
        "colab": {
          "base_uri": "https://localhost:8080/"
        },
        "outputId": "40b0b729-a048-434c-8f56-70ea6509d523"
      },
      "source": [
        "from sklearn.metrics import classification_report\n",
        "print('Results on the test set:')\n",
        "print(classification_report(y_test, y_pred))"
      ],
      "execution_count": null,
      "outputs": [
        {
          "output_type": "stream",
          "name": "stdout",
          "text": [
            "Results on the test set:\n",
            "              precision    recall  f1-score   support\n",
            "\n",
            "           0       0.81      0.55      0.65      3056\n",
            "           1       0.00      0.00      0.00       321\n",
            "           2       0.80      0.51      0.62      1715\n",
            "           3       0.00      0.00      0.00        74\n",
            "           4       0.73      0.46      0.57      1614\n",
            "           5       0.00      0.00      0.00       294\n",
            "\n",
            "   micro avg       0.79      0.46      0.58      7074\n",
            "   macro avg       0.39      0.25      0.31      7074\n",
            "weighted avg       0.71      0.46      0.56      7074\n",
            " samples avg       0.05      0.04      0.04      7074\n",
            "\n"
          ]
        },
        {
          "output_type": "stream",
          "name": "stderr",
          "text": [
            "/usr/local/lib/python3.7/dist-packages/sklearn/metrics/_classification.py:1272: UndefinedMetricWarning: Precision and F-score are ill-defined and being set to 0.0 in labels with no predicted samples. Use `zero_division` parameter to control this behavior.\n",
            "  _warn_prf(average, modifier, msg_start, len(result))\n",
            "/usr/local/lib/python3.7/dist-packages/sklearn/metrics/_classification.py:1272: UndefinedMetricWarning: Precision and F-score are ill-defined and being set to 0.0 in samples with no predicted labels. Use `zero_division` parameter to control this behavior.\n",
            "  _warn_prf(average, modifier, msg_start, len(result))\n",
            "/usr/local/lib/python3.7/dist-packages/sklearn/metrics/_classification.py:1272: UndefinedMetricWarning: Recall and F-score are ill-defined and being set to 0.0 in samples with no true labels. Use `zero_division` parameter to control this behavior.\n",
            "  _warn_prf(average, modifier, msg_start, len(result))\n"
          ]
        }
      ]
    },
    {
      "cell_type": "markdown",
      "metadata": {
        "id": "ephOSuHxaZbk"
      },
      "source": [
        "#RANDOM FOREST CLASSIFIER"
      ]
    },
    {
      "cell_type": "code",
      "metadata": {
        "id": "b1ksz28NVAyC",
        "colab": {
          "base_uri": "https://localhost:8080/"
        },
        "outputId": "0fcc2705-230f-441a-d827-a28ec986ac32"
      },
      "source": [
        "from sklearn.ensemble import RandomForestClassifier\n",
        "\n",
        "#Model RF\n",
        "model_rf = RandomForestClassifier(random_state=1, n_estimators=500, verbose=1, n_jobs=-1, oob_score=True)\n",
        "model_rf.fit(x_train, y_train)"
      ],
      "execution_count": null,
      "outputs": [
        {
          "output_type": "stream",
          "name": "stderr",
          "text": [
            "[Parallel(n_jobs=-1)]: Using backend ThreadingBackend with 4 concurrent workers.\n",
            "[Parallel(n_jobs=-1)]: Done  42 tasks      | elapsed:   32.8s\n",
            "[Parallel(n_jobs=-1)]: Done 192 tasks      | elapsed:  2.4min\n",
            "[Parallel(n_jobs=-1)]: Done 442 tasks      | elapsed:  5.4min\n",
            "[Parallel(n_jobs=-1)]: Done 500 out of 500 | elapsed:  6.1min finished\n"
          ]
        },
        {
          "output_type": "execute_result",
          "data": {
            "text/plain": [
              "RandomForestClassifier(bootstrap=True, ccp_alpha=0.0, class_weight=None,\n",
              "                       criterion='gini', max_depth=None, max_features='auto',\n",
              "                       max_leaf_nodes=None, max_samples=None,\n",
              "                       min_impurity_decrease=0.0, min_impurity_split=None,\n",
              "                       min_samples_leaf=1, min_samples_split=2,\n",
              "                       min_weight_fraction_leaf=0.0, n_estimators=500,\n",
              "                       n_jobs=-1, oob_score=True, random_state=1, verbose=1,\n",
              "                       warm_start=False)"
            ]
          },
          "metadata": {},
          "execution_count": 43
        }
      ]
    },
    {
      "cell_type": "code",
      "metadata": {
        "id": "k5RYIh4hVA2J",
        "colab": {
          "base_uri": "https://localhost:8080/"
        },
        "outputId": "d0c51e4e-d068-4222-a5d1-748db3d7fce1"
      },
      "source": [
        "from sklearn.metrics import accuracy_score, classification_report, confusion_matrix\n",
        "\n",
        "# the score for the trained model. Here it is around 62%. It can be further increased, by fine-tuning\n",
        "#word2vec model as well as rf model using possibly grid search.\n",
        "result = model_rf.predict( x_test )\n",
        "score = accuracy_score(y_test,result)\n",
        "print(score)\n",
        "print (classification_report(y_test,result))"
      ],
      "execution_count": null,
      "outputs": [
        {
          "output_type": "stream",
          "name": "stderr",
          "text": [
            "[Parallel(n_jobs=4)]: Using backend ThreadingBackend with 4 concurrent workers.\n",
            "[Parallel(n_jobs=4)]: Done  42 tasks      | elapsed:    0.3s\n",
            "[Parallel(n_jobs=4)]: Done 192 tasks      | elapsed:    1.2s\n",
            "[Parallel(n_jobs=4)]: Done 442 tasks      | elapsed:    2.8s\n"
          ]
        },
        {
          "output_type": "stream",
          "name": "stdout",
          "text": [
            "0.9060316465611782\n",
            "              precision    recall  f1-score   support\n",
            "\n",
            "           0       0.82      0.48      0.61      3056\n",
            "           1       0.55      0.09      0.16       321\n",
            "           2       0.88      0.42      0.56      1715\n",
            "           3       0.50      0.05      0.10        74\n",
            "           4       0.81      0.37      0.51      1614\n",
            "           5       0.82      0.03      0.06       294\n",
            "\n",
            "   micro avg       0.83      0.40      0.54      7074\n",
            "   macro avg       0.73      0.24      0.33      7074\n",
            "weighted avg       0.82      0.40      0.52      7074\n",
            " samples avg       0.04      0.03      0.04      7074\n",
            "\n"
          ]
        },
        {
          "output_type": "stream",
          "name": "stderr",
          "text": [
            "[Parallel(n_jobs=4)]: Done 500 out of 500 | elapsed:    3.1s finished\n",
            "/usr/local/lib/python3.7/dist-packages/sklearn/metrics/_classification.py:1272: UndefinedMetricWarning: Precision and F-score are ill-defined and being set to 0.0 in samples with no predicted labels. Use `zero_division` parameter to control this behavior.\n",
            "  _warn_prf(average, modifier, msg_start, len(result))\n",
            "/usr/local/lib/python3.7/dist-packages/sklearn/metrics/_classification.py:1272: UndefinedMetricWarning: Recall and F-score are ill-defined and being set to 0.0 in samples with no true labels. Use `zero_division` parameter to control this behavior.\n",
            "  _warn_prf(average, modifier, msg_start, len(result))\n"
          ]
        }
      ]
    },
    {
      "cell_type": "markdown",
      "metadata": {
        "id": "VdD8ivtO7azt"
      },
      "source": [
        "reference:\n",
        "https://web.stanford.edu/class/archive/cs/cs224n/cs224n.1184/reports/6837517.pdf\n",
        "\n",
        "reference research paper on detecting and classifying comments\n"
      ]
    },
    {
      "cell_type": "code",
      "metadata": {
        "id": "Nj-gqnj8HugK"
      },
      "source": [
        ""
      ],
      "execution_count": null,
      "outputs": []
    },
    {
      "cell_type": "code",
      "metadata": {
        "id": "zI8GTWlaHuQU"
      },
      "source": [
        ""
      ],
      "execution_count": null,
      "outputs": []
    }
  ]
}